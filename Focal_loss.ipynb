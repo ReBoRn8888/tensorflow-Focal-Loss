{
 "cells": [
  {
   "cell_type": "code",
   "execution_count": 1,
   "metadata": {
    "collapsed": true
   },
   "outputs": [],
   "source": [
    "import tensorflow as tf\n",
    "sess = tf.Session()"
   ]
  },
  {
   "cell_type": "markdown",
   "metadata": {},
   "source": [
    "# Prepare data"
   ]
  },
  {
   "cell_type": "code",
   "execution_count": 3,
   "metadata": {},
   "outputs": [
    {
     "name": "stdout",
     "output_type": "stream",
     "text": [
      "Softmax = [[  9.09443021e-01   4.52785008e-02   4.52785008e-02]\n",
      " [  9.86703277e-01   6.64835423e-03   6.64835423e-03]\n",
      " [  9.98754263e-01   3.35044722e-04   9.10745992e-04]\n",
      " [  4.99381065e-01   4.99381065e-01   1.23784191e-03]]\n",
      "Sample distribution = [ 2.  1.  1.]\n"
     ]
    }
   ],
   "source": [
    "# 'logits' is the output of the model, 'labels' is the one-hot ground truth of samples\n",
    "logits = tf.constant([[5., 2., 2.], [10., 5., 5.], [9., 1., 2.], [7., 7., 1.]], name='logits')\n",
    "labels = tf.constant([[1., 0., 0.], [0., 1., 0.], [0., 0., 1.], [1., 0., 0.]], name='labels')\n",
    "predictions = tf.nn.softmax(logits, name='prediction')\n",
    "print(\"Softmax = {}\".format(sess.run(predictions)))\n",
    "\n",
    "distribution = tf.reduce_sum(labels, axis=0)\n",
    "print(\"Sample distribution = {}\".format(sess.run(distribution)))"
   ]
  },
  {
   "cell_type": "markdown",
   "metadata": {},
   "source": [
    "# Comparison betweent different loss"
   ]
  },
  {
   "cell_type": "code",
   "execution_count": 5,
   "metadata": {},
   "outputs": [
    {
     "name": "stdout",
     "output_type": "stream",
     "text": [
      "\n",
      "Cross Entropy implementation:\n",
      "[ 0.09492294  5.01338577  7.00124645  0.69438583]\n",
      "My cross entropy loss = 3.2009854316711426\n",
      "\n",
      "Cross entropy by tensorflow:\n",
      "[ 0.09492292  5.01338577  7.00124645  0.69438583]\n",
      "Tensorflow cross entropy loss = 3.2009854316711426\n",
      "\n",
      "Focal loss implementation:\n",
      "gamma = 2\n",
      "alpha = [ 0.5   0.75  0.75]\n",
      "[  3.89210909e-04   3.71020937e+00   5.24137449e+00   8.70132521e-02]\n",
      "Focal loss = 2.259746551513672\n"
     ]
    }
   ],
   "source": [
    "def my_cross_entropy(predictions, labels):\n",
    "    print(\"\\nCross Entropy implementation:\")\n",
    "    loss = -labels * tf.log(predictions)\n",
    "#     print(sess.run(loss))\n",
    "    loss = tf.reduce_sum(loss, axis=1)\n",
    "    print(sess.run(loss))\n",
    "    loss = tf.reduce_mean(loss)\n",
    "    print(\"My cross entropy loss = {}\".format(sess.run(loss)))\n",
    "    return loss\n",
    "\n",
    "def focal_loss(predictions, labels, distribution):\n",
    "    print(\"\\nFocal loss implementation:\")\n",
    "    gamma = 2\n",
    "    alpha = 1 - distribution / (tf.reduce_sum(distribution))\n",
    "    print(\"gamma = {}\\nalpha = {}\".format(gamma, sess.run(alpha)))\n",
    "    focalLoss = -labels * alpha * tf.pow(1 - predictions, gamma) * tf.log(predictions)\n",
    "#     print(sess.run(focalLoss))\n",
    "    focalLoss = tf.reduce_sum(focalLoss, axis=1)\n",
    "    print(sess.run(focalLoss))\n",
    "    focalLoss = tf.reduce_mean(focalLoss)\n",
    "    print(\"Focal loss = {}\".format(sess.run(focalLoss)))\n",
    "    return focalLoss\n",
    "\n",
    "def tf_cross_entropy(logits, labels):\n",
    "    print(\"\\nCross entropy by tensorflow:\")\n",
    "    loss = tf.nn.softmax_cross_entropy_with_logits(logits=logits, labels=labels)\n",
    "    print(sess.run(loss))\n",
    "    loss = tf.reduce_mean(loss)\n",
    "    print(\"Tensorflow cross entropy loss = {}\".format(sess.run(loss)))\n",
    "    return loss\n",
    "    \n",
    "ceLoss = my_cross_entropy(predictions, labels)\n",
    "tfLoss = tf_cross_entropy(logits, labels)\n",
    "focalLoss = focal_loss(predictions, labels, distribution)"
   ]
  },
  {
   "cell_type": "code",
   "execution_count": null,
   "metadata": {
    "collapsed": true
   },
   "outputs": [],
   "source": []
  }
 ],
 "metadata": {
  "kernelspec": {
   "display_name": "Python 3",
   "language": "python",
   "name": "python3"
  },
  "language_info": {
   "codemirror_mode": {
    "name": "ipython",
    "version": 3
   },
   "file_extension": ".py",
   "mimetype": "text/x-python",
   "name": "python",
   "nbconvert_exporter": "python",
   "pygments_lexer": "ipython3",
   "version": "3.6.8"
  }
 },
 "nbformat": 4,
 "nbformat_minor": 2
}
